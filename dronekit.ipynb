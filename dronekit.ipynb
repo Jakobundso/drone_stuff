{
 "cells": [
  {
   "cell_type": "code",
   "execution_count": 1,
   "metadata": {},
   "outputs": [],
   "source": [
    "from pymavlink import mavutil\n",
    "from dronekit import connect, VehicleMode, LocationGlobalRelative, Command, LocationGlobal\n",
    "import time"
   ]
  },
  {
   "cell_type": "code",
   "execution_count": 2,
   "metadata": {},
   "outputs": [],
   "source": [
    "# master = mavutil.mavlink_connection('tcp:127.0.0.1:5760')\n",
    "vehicle = connect('udp:127.0.0.1:14550')"
   ]
  },
  {
   "cell_type": "code",
   "execution_count": 3,
   "metadata": {},
   "outputs": [
    {
     "name": "stdout",
     "output_type": "stream",
     "text": [
      "Basic pre-arm checks\n",
      "Arming motors\n",
      " Waiting for arming...\n",
      "Taking off!\n",
      " Altitude: 0.001\n",
      " Altitude: 0.001\n",
      " Altitude: 0.001\n",
      " Altitude: 0.108\n",
      " Altitude: 1.477\n",
      " Altitude: 2.94\n",
      " Altitude: 5.683\n",
      " Altitude: 8.014\n",
      " Altitude: 10.399\n",
      " Altitude: 12.829\n",
      " Altitude: 15.272\n",
      " Altitude: 17.739\n",
      " Altitude: 20.208\n",
      " Altitude: 22.695\n",
      " Altitude: 25.188\n",
      " Altitude: 27.724\n",
      " Altitude: 30.2\n",
      " Altitude: 32.675\n"
     ]
    },
    {
     "ename": "KeyboardInterrupt",
     "evalue": "",
     "output_type": "error",
     "traceback": [
      "\u001b[1;31m---------------------------------------------------------------------------\u001b[0m",
      "\u001b[1;31mKeyboardInterrupt\u001b[0m                         Traceback (most recent call last)",
      "\u001b[1;32m<ipython-input-3-05ef2e6054d3>\u001b[0m in \u001b[0;36m<module>\u001b[1;34m\u001b[0m\n\u001b[0;32m     27\u001b[0m \u001b[1;33m\u001b[0m\u001b[0m\n\u001b[0;32m     28\u001b[0m \u001b[1;31m# Main\u001b[0m\u001b[1;33m\u001b[0m\u001b[1;33m\u001b[0m\u001b[1;33m\u001b[0m\u001b[0m\n\u001b[1;32m---> 29\u001b[1;33m \u001b[0marm_and_takeoff\u001b[0m\u001b[1;33m(\u001b[0m\u001b[1;36m160\u001b[0m\u001b[1;33m)\u001b[0m\u001b[1;33m\u001b[0m\u001b[1;33m\u001b[0m\u001b[0m\n\u001b[0m\u001b[0;32m     30\u001b[0m \u001b[0mvehicle\u001b[0m\u001b[1;33m.\u001b[0m\u001b[0mairspeed\u001b[0m \u001b[1;33m=\u001b[0m \u001b[1;36m10\u001b[0m\u001b[1;33m\u001b[0m\u001b[1;33m\u001b[0m\u001b[0m\n\u001b[0;32m     31\u001b[0m \u001b[1;33m\u001b[0m\u001b[0m\n",
      "\u001b[1;32m<ipython-input-3-05ef2e6054d3>\u001b[0m in \u001b[0;36marm_and_takeoff\u001b[1;34m(tgt_alt)\u001b[0m\n\u001b[0;32m     23\u001b[0m             \u001b[0mprint\u001b[0m\u001b[1;33m(\u001b[0m\u001b[1;34m\"Alt reached\"\u001b[0m\u001b[1;33m)\u001b[0m\u001b[1;33m\u001b[0m\u001b[1;33m\u001b[0m\u001b[0m\n\u001b[0;32m     24\u001b[0m             \u001b[1;32mbreak\u001b[0m\u001b[1;33m\u001b[0m\u001b[1;33m\u001b[0m\u001b[0m\n\u001b[1;32m---> 25\u001b[1;33m         \u001b[0mtime\u001b[0m\u001b[1;33m.\u001b[0m\u001b[0msleep\u001b[0m\u001b[1;33m(\u001b[0m\u001b[1;36m1\u001b[0m\u001b[1;33m)\u001b[0m\u001b[1;33m\u001b[0m\u001b[1;33m\u001b[0m\u001b[0m\n\u001b[0m\u001b[0;32m     26\u001b[0m \u001b[1;33m\u001b[0m\u001b[0m\n\u001b[0;32m     27\u001b[0m \u001b[1;33m\u001b[0m\u001b[0m\n",
      "\u001b[1;31mKeyboardInterrupt\u001b[0m: "
     ]
    }
   ],
   "source": [
    "def arm_and_takeoff(tgt_alt):\n",
    "    print(\"Basic pre-arm checks\")\n",
    "    while not vehicle.is_armable:\n",
    "        print(\" Waiting for vehicle to initialise...\")\n",
    "        time.sleep(1)\n",
    "\n",
    "    print(\"Arming motors\")\n",
    "    vehicle.mode = VehicleMode(\"GUIDED\")\n",
    "    vehicle.armed = True\n",
    "\n",
    "    while not vehicle.armed:\n",
    "        print(\" Waiting for arming...\")\n",
    "        time.sleep(1)\n",
    "\n",
    "    print(\"Taking off!\")\n",
    "    vehicle.simple_takeoff(tgt_alt)\n",
    "\n",
    "    while True:\n",
    "        alt = vehicle.location.global_relative_frame.alt\n",
    "        print(\" Altitude: \" + str(alt))\n",
    "\n",
    "        if alt >= tgt_alt - 1:\n",
    "            print(\"Alt reached\")\n",
    "            break\n",
    "        time.sleep(1)\n",
    "\n",
    "\n",
    "# Main\n",
    "arm_and_takeoff(160)\n",
    "vehicle.airspeed = 10\n",
    "\n",
    "print(\"Zum Friedrichsplatz\")\n",
    "vehicle.simple_goto(50.802953, 8.763712, 150)\n",
    "time.sleep(50)\n",
    "print(\"Back home\")\n",
    "vehicle.mode = VehicleMode(\"RTL\")\n",
    "time.sleep(10)\n",
    "vehicle.close()"
   ]
  },
  {
   "cell_type": "code",
   "execution_count": 4,
   "metadata": {},
   "outputs": [
    {
     "name": "stdout",
     "output_type": "stream",
     "text": [
      "Zum Friedrichsplatz\n"
     ]
    }
   ],
   "source": [
    "vehicle.airspeed = 100\n",
    "\n",
    "print(\"Zum Friedrichsplatz\")\n",
    "vehicle.simple_goto(LocationGlobalRelative(50.802953, 8.763712, 150))\n",
    "\n",
    "time.sleep(50)"
   ]
  }
 ],
 "metadata": {
  "kernelspec": {
   "display_name": "Python 3",
   "language": "python",
   "name": "python3"
  },
  "language_info": {
   "codemirror_mode": {
    "name": "ipython",
    "version": 3
   },
   "file_extension": ".py",
   "mimetype": "text/x-python",
   "name": "python",
   "nbconvert_exporter": "python",
   "pygments_lexer": "ipython3",
   "version": "3.8.6"
  }
 },
 "nbformat": 4,
 "nbformat_minor": 4
}
