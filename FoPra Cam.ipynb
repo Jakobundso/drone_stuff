{
 "cells": [
  {
   "cell_type": "code",
   "execution_count": null,
   "metadata": {},
   "outputs": [],
   "source": [
    "import pyrealsense2 as rs\n",
    "import numpy as np\n",
    "import matplotlib.pyplot as plt\n",
    "import time\n",
    "from math import sin, cos, tan, radians\n",
    "from IPython.display import clear_output"
   ]
  },
  {
   "cell_type": "code",
   "execution_count": null,
   "metadata": {},
   "outputs": [],
   "source": [
    "class Realsense_Camera:\n",
    "    def __init__(self):\n",
    "        self.pipe = rs.pipeline()\n",
    "        self.profile = self.pipe.start()\n",
    "\n",
    "    def get_depth_frame(self):\n",
    "        return self.pipe.wait_for_frames().get_depth_frame()\n",
    "\n",
    "    def close(self):\n",
    "        self.pipe.stop()"
   ]
  },
  {
   "cell_type": "code",
   "execution_count": null,
   "metadata": {},
   "outputs": [],
   "source": [
    "def build(df, shape=(3, 4)):\n",
    "    # 3:4 ratio -> shape should be 3*i, 4*i i=[2,4,8, 16]\n",
    "    assert isinstance(df, rs.depth_frame)\n",
    "    grid = np.array(df.get_data())\n",
    "    grid = mean_reBin(grid, shape)\n",
    "    return grid\n",
    "\n",
    "\n",
    "def min_reBin(a, shape):\n",
    "    sh = shape[0], a.shape[0]//shape[0], shape[1], a.shape[1]//shape[1]\n",
    "    return a.reshape(sh).min(axis=3).min(axis=1)\n",
    "\n",
    "\n",
    "def mean_reBin(a, shape):\n",
    "    sh = shape[0], a.shape[0]//shape[0], shape[1], a.shape[1]//shape[1]\n",
    "    return a.reshape(sh).mean(axis=3).mean(axis=1)\n",
    "\n",
    "\n",
    "def max_reBin(a, shape):\n",
    "    sh = shape[0], a.shape[0]//shape[0], shape[1], a.shape[1]//shape[1]\n",
    "    return a.reshape(sh).max(axis=3).max(axis=1)\n",
    "\n",
    "\n"
   ]
  },
  {
   "cell_type": "code",
   "execution_count": null,
   "metadata": {},
   "outputs": [],
   "source": [
    "def test():\n",
    "    cam = Realsense_Camera()\n",
    "    if cam is not None:\n",
    "        print('connected to camera')\n",
    "        \n",
    "        start_time = time.time()\n",
    "        grid = build(cam.get_depth_frame(), shape=(12, 16))\n",
    "        clear_output(wait=True)\n",
    "        plt.imshow(grid, cmap='gray')\n",
    "        plt.xticks(())\n",
    "        plt.yticks(())\n",
    "        plt.show()\n",
    "        print('Frame took: ' + \"{:.4f}\".format(time.time()-start_time) + 's')\n",
    "        time.sleep(0.5)\n",
    "    cam.close()\n",
    "\n",
    "\n",
    "test()\n",
    "# cam.close()"
   ]
  },
  {
   "cell_type": "code",
   "execution_count": null,
   "metadata": {},
   "outputs": [],
   "source": [
    "cam = Realsense_Camera()\n",
    "\n",
    "for x in xrange(5):\n",
    "    time.sleep(0.5)\n",
    "    cam.get_depth_frame()\n",
    "\n",
    "frame = cam.get_depth_frame()\n",
    "cam.close()"
   ]
  },
  {
   "cell_type": "code",
   "execution_count": null,
   "metadata": {},
   "outputs": [],
   "source": [
    "df = np.array(frame.get_data())\n",
    "plt.imshow(df, cmap='gray')"
   ]
  },
  {
   "cell_type": "code",
   "execution_count": null,
   "metadata": {
    "scrolled": false
   },
   "outputs": [],
   "source": [
    "# TODO pos, pitch, yaw\n",
    "def toKoord(dist_array, cam_pitch=0, cam_yaw=0, cam_position=(0, 0, 0)):\n",
    "    \"\"\"\n",
    "    :return \n",
    "    realSense d435 depthcam -> 86°x57° FOV\n",
    "    :param dist_array: array of distances in mm \n",
    "    :param cam_pitch: camara pitch/drone tilt\n",
    "    :param cam_yaw: yaw of camera/drone\n",
    "    :param cam_position: gps location of camera\n",
    "    \"\"\"\n",
    "    # reducing the size of the array to to conserve computing power\n",
    "    dist_array = max_reBin(dist_array, (120, 160))\n",
    "    vec_arr = []\n",
    "    for j in range(120):\n",
    "        for i in range(160):\n",
    "            if dist_array[j][i] != 0.0:\n",
    "                alpha = (47.0 + (2*i + 1)*(43.0/160)) # Grad X|Y\n",
    "                beta = (28.5 - (2*j + 1)*(28.5/120)) # Grad Y|Z\n",
    "                r = dist_array[j][i]\n",
    "                vec = np.array([r*cos(radians(beta))*sin(radians(alpha)),\n",
    "                                r*cos(radians(beta))*cos(radians(alpha)),\n",
    "                                r*sin(radians(beta))])\n",
    "                #vec[2] represents the z coord.\n",
    "                if (vec < 3000).all() and (vec[2] < 150) and (vec[2] > -150):\n",
    "                    vec_arr.append(vec)\n",
    "    return np.array(vec_arr)\n",
    "import numpy as np\n",
    "from math import sin, cos, tan, radians\n",
    "[1,5]\n",
    "[0,5]\n",
    "df = np.ones((120,160))\n",
    "cor = toKoord(dist_array=df)\n",
    "print(cor)"
   ]
  },
  {
   "cell_type": "code",
   "execution_count": null,
   "metadata": {},
   "outputs": [],
   "source": [
    "import matplotlib.pyplot as plt\n",
    "from mpl_toolkits.mplot3d import Axes3D\n",
    "cor = cor.T\n",
    "\n",
    "fig = plt.figure()\n",
    "ax = fig.add_subplot(111, projection='3d')\n",
    "\n",
    "ax.scatter(cor[1], cor[0], cor[2], marker='o', s=1)\n",
    "\n",
    "ax.set_xlabel('X-axis')\n",
    "ax.set_ylabel('Y-axis')\n",
    "ax.set_zlabel('Z-axis')\n",
    "\n",
    "plt.show()\n",
    "plt.close()\n",
    "\n",
    "plt.scatter(-cor[1], cor[0], s=3);"
   ]
  },
  {
   "cell_type": "code",
   "execution_count": null,
   "metadata": {},
   "outputs": [],
   "source": [
    "pc = rs.pointcloud()\n",
    "pointcloud = pc.calculate(frame)\n",
    "a = np.array(pointcloud.get_vertices())\n",
    "b = np.array([[i[0], i[1], i[2]] for i in a if not ((i[0] == 0.) or (i[1] == 0.) or (i[0] < -4))]).T"
   ]
  },
  {
   "cell_type": "code",
   "execution_count": null,
   "metadata": {},
   "outputs": [],
   "source": [
    "fig = plt.figure()\n",
    "ax = fig.add_subplot(111, projection='3d')\n",
    "\n",
    "ax.scatter(b[0], b[2], b[1], marker='o', s=1)\n",
    "\n",
    "ax.set_xlabel('X-axis')\n",
    "ax.set_ylabel('Y-axis')\n",
    "ax.set_zlabel('Z-axis')\n",
    "\n",
    "plt.show()\n",
    "plt.close()"
   ]
  }
 ],
 "metadata": {
  "kernelspec": {
   "display_name": "Python 3",
   "language": "python",
   "name": "python3"
  },
  "language_info": {
   "codemirror_mode": {
    "name": "ipython",
    "version": 3
   },
   "file_extension": ".py",
   "mimetype": "text/x-python",
   "name": "python",
   "nbconvert_exporter": "python",
   "pygments_lexer": "ipython3",
   "version": "3.9.1"
  }
 },
 "nbformat": 4,
 "nbformat_minor": 4
}
